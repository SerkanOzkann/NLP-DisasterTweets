{
 "cells": [
  {
   "cell_type": "code",
   "execution_count": 1,
   "id": "e941b42e",
   "metadata": {
    "_cell_guid": "b1076dfc-b9ad-4769-8c92-a6c4dae69d19",
    "_uuid": "8f2839f25d086af736a60e9eeb907d3b93b6e0e5",
    "execution": {
     "iopub.execute_input": "2021-12-24T06:50:08.519304Z",
     "iopub.status.busy": "2021-12-24T06:50:08.518005Z",
     "iopub.status.idle": "2021-12-24T06:50:10.611748Z",
     "shell.execute_reply": "2021-12-24T06:50:10.612250Z",
     "shell.execute_reply.started": "2021-12-24T06:42:35.375716Z"
    },
    "papermill": {
     "duration": 2.127873,
     "end_time": "2021-12-24T06:50:10.612620",
     "exception": false,
     "start_time": "2021-12-24T06:50:08.484747",
     "status": "completed"
    },
    "tags": []
   },
   "outputs": [
    {
     "name": "stdout",
     "output_type": "stream",
     "text": [
      "Setup Complete\n"
     ]
    }
   ],
   "source": [
    "# Serkan Ozkan University Of Kocaeli NLP_Project\n",
    "#Start of the Project\n",
    "\n",
    "#Libraries\n",
    "import pandas as pd\n",
    "import numpy as np \n",
    " \n",
    "\n",
    "import re  # pip install regex regular expression\n",
    "import string\n",
    "import nltk\n",
    "from nltk.corpus import stopwords           #stopword\n",
    "\n",
    "from nltk.tokenize import word_tokenize    #tokenization\n",
    "from nltk.stem import WordNetLemmatizer    #lemmatization\n",
    "from nltk.stem.porter import PorterStemmer #steamming\n",
    "from nltk.tokenize import sent_tokenize, word_tokenize #tokenization\n",
    "from nltk.corpus import wordnet\n",
    "\n",
    "\n",
    "from sklearn.feature_extraction.text import CountVectorizer,TfidfVectorizer, TfidfTransformer\n",
    "from sklearn.model_selection import RepeatedStratifiedKFold,cross_val_score\n",
    "from sklearn.linear_model import LogisticRegression\n",
    "from sklearn.naive_bayes import MultinomialNB\n",
    "from sklearn.pipeline import Pipeline\n",
    "from sklearn.metrics import f1_score\n",
    "import pickle\n",
    "\n",
    "import matplotlib.pyplot as plt\n",
    "import seaborn as sns\n",
    "from wordcloud import WordCloud\n",
    "\n",
    "## Ignoring Warning during trainings \n",
    "import warnings\n",
    "warnings.filterwarnings('ignore')\n",
    "\n",
    "\n",
    "print('Setup Complete')"
   ]
  },
  {
   "cell_type": "code",
   "execution_count": 2,
   "id": "d403be21",
   "metadata": {
    "execution": {
     "iopub.execute_input": "2021-12-24T06:50:10.673009Z",
     "iopub.status.busy": "2021-12-24T06:50:10.672228Z",
     "iopub.status.idle": "2021-12-24T06:50:10.757096Z",
     "shell.execute_reply": "2021-12-24T06:50:10.757854Z",
     "shell.execute_reply.started": "2021-12-24T06:42:37.217340Z"
    },
    "papermill": {
     "duration": 0.117241,
     "end_time": "2021-12-24T06:50:10.758094",
     "exception": false,
     "start_time": "2021-12-24T06:50:10.640853",
     "status": "completed"
    },
    "tags": []
   },
   "outputs": [
    {
     "name": "stdout",
     "output_type": "stream",
     "text": [
      "Setup Complete\n"
     ]
    }
   ],
   "source": [
    "#İmport Dataset\n",
    "traindata = pd.read_csv(\"/kaggle/input/nlp-getting-started/train.csv\")\n",
    "testdata = pd.read_csv(\"/kaggle/input/nlp-getting-started/test.csv\")\n",
    "print('Setup Complete')"
   ]
  },
  {
   "cell_type": "code",
   "execution_count": 3,
   "id": "4f882fd6",
   "metadata": {
    "execution": {
     "iopub.execute_input": "2021-12-24T06:50:10.819706Z",
     "iopub.status.busy": "2021-12-24T06:50:10.818945Z",
     "iopub.status.idle": "2021-12-24T06:50:10.850360Z",
     "shell.execute_reply": "2021-12-24T06:50:10.849780Z",
     "shell.execute_reply.started": "2021-12-24T06:42:37.291473Z"
    },
    "papermill": {
     "duration": 0.063706,
     "end_time": "2021-12-24T06:50:10.850529",
     "exception": false,
     "start_time": "2021-12-24T06:50:10.786823",
     "status": "completed"
    },
    "tags": []
   },
   "outputs": [
    {
     "data": {
      "text/html": [
       "<div>\n",
       "<style scoped>\n",
       "    .dataframe tbody tr th:only-of-type {\n",
       "        vertical-align: middle;\n",
       "    }\n",
       "\n",
       "    .dataframe tbody tr th {\n",
       "        vertical-align: top;\n",
       "    }\n",
       "\n",
       "    .dataframe thead th {\n",
       "        text-align: right;\n",
       "    }\n",
       "</style>\n",
       "<table border=\"1\" class=\"dataframe\">\n",
       "  <thead>\n",
       "    <tr style=\"text-align: right;\">\n",
       "      <th></th>\n",
       "      <th>id</th>\n",
       "      <th>keyword</th>\n",
       "      <th>location</th>\n",
       "      <th>text</th>\n",
       "      <th>target</th>\n",
       "    </tr>\n",
       "  </thead>\n",
       "  <tbody>\n",
       "    <tr>\n",
       "      <th>0</th>\n",
       "      <td>1</td>\n",
       "      <td>NaN</td>\n",
       "      <td>NaN</td>\n",
       "      <td>Our Deeds are the Reason of this #earthquake M...</td>\n",
       "      <td>1</td>\n",
       "    </tr>\n",
       "    <tr>\n",
       "      <th>1</th>\n",
       "      <td>4</td>\n",
       "      <td>NaN</td>\n",
       "      <td>NaN</td>\n",
       "      <td>Forest fire near La Ronge Sask. Canada</td>\n",
       "      <td>1</td>\n",
       "    </tr>\n",
       "    <tr>\n",
       "      <th>2</th>\n",
       "      <td>5</td>\n",
       "      <td>NaN</td>\n",
       "      <td>NaN</td>\n",
       "      <td>All residents asked to 'shelter in place' are ...</td>\n",
       "      <td>1</td>\n",
       "    </tr>\n",
       "    <tr>\n",
       "      <th>3</th>\n",
       "      <td>6</td>\n",
       "      <td>NaN</td>\n",
       "      <td>NaN</td>\n",
       "      <td>13,000 people receive #wildfires evacuation or...</td>\n",
       "      <td>1</td>\n",
       "    </tr>\n",
       "    <tr>\n",
       "      <th>4</th>\n",
       "      <td>7</td>\n",
       "      <td>NaN</td>\n",
       "      <td>NaN</td>\n",
       "      <td>Just got sent this photo from Ruby #Alaska as ...</td>\n",
       "      <td>1</td>\n",
       "    </tr>\n",
       "    <tr>\n",
       "      <th>...</th>\n",
       "      <td>...</td>\n",
       "      <td>...</td>\n",
       "      <td>...</td>\n",
       "      <td>...</td>\n",
       "      <td>...</td>\n",
       "    </tr>\n",
       "    <tr>\n",
       "      <th>7608</th>\n",
       "      <td>10869</td>\n",
       "      <td>NaN</td>\n",
       "      <td>NaN</td>\n",
       "      <td>Two giant cranes holding a bridge collapse int...</td>\n",
       "      <td>1</td>\n",
       "    </tr>\n",
       "    <tr>\n",
       "      <th>7609</th>\n",
       "      <td>10870</td>\n",
       "      <td>NaN</td>\n",
       "      <td>NaN</td>\n",
       "      <td>@aria_ahrary @TheTawniest The out of control w...</td>\n",
       "      <td>1</td>\n",
       "    </tr>\n",
       "    <tr>\n",
       "      <th>7610</th>\n",
       "      <td>10871</td>\n",
       "      <td>NaN</td>\n",
       "      <td>NaN</td>\n",
       "      <td>M1.94 [01:04 UTC]?5km S of Volcano Hawaii. htt...</td>\n",
       "      <td>1</td>\n",
       "    </tr>\n",
       "    <tr>\n",
       "      <th>7611</th>\n",
       "      <td>10872</td>\n",
       "      <td>NaN</td>\n",
       "      <td>NaN</td>\n",
       "      <td>Police investigating after an e-bike collided ...</td>\n",
       "      <td>1</td>\n",
       "    </tr>\n",
       "    <tr>\n",
       "      <th>7612</th>\n",
       "      <td>10873</td>\n",
       "      <td>NaN</td>\n",
       "      <td>NaN</td>\n",
       "      <td>The Latest: More Homes Razed by Northern Calif...</td>\n",
       "      <td>1</td>\n",
       "    </tr>\n",
       "  </tbody>\n",
       "</table>\n",
       "<p>7613 rows × 5 columns</p>\n",
       "</div>"
      ],
      "text/plain": [
       "         id keyword location  \\\n",
       "0         1     NaN      NaN   \n",
       "1         4     NaN      NaN   \n",
       "2         5     NaN      NaN   \n",
       "3         6     NaN      NaN   \n",
       "4         7     NaN      NaN   \n",
       "...     ...     ...      ...   \n",
       "7608  10869     NaN      NaN   \n",
       "7609  10870     NaN      NaN   \n",
       "7610  10871     NaN      NaN   \n",
       "7611  10872     NaN      NaN   \n",
       "7612  10873     NaN      NaN   \n",
       "\n",
       "                                                   text  target  \n",
       "0     Our Deeds are the Reason of this #earthquake M...       1  \n",
       "1                Forest fire near La Ronge Sask. Canada       1  \n",
       "2     All residents asked to 'shelter in place' are ...       1  \n",
       "3     13,000 people receive #wildfires evacuation or...       1  \n",
       "4     Just got sent this photo from Ruby #Alaska as ...       1  \n",
       "...                                                 ...     ...  \n",
       "7608  Two giant cranes holding a bridge collapse int...       1  \n",
       "7609  @aria_ahrary @TheTawniest The out of control w...       1  \n",
       "7610  M1.94 [01:04 UTC]?5km S of Volcano Hawaii. htt...       1  \n",
       "7611  Police investigating after an e-bike collided ...       1  \n",
       "7612  The Latest: More Homes Razed by Northern Calif...       1  \n",
       "\n",
       "[7613 rows x 5 columns]"
      ]
     },
     "execution_count": 3,
     "metadata": {},
     "output_type": "execute_result"
    }
   ],
   "source": [
    "# List Of  TrainData\n",
    "\n",
    "traindata"
   ]
  },
  {
   "cell_type": "code",
   "execution_count": 4,
   "id": "97288d5a",
   "metadata": {
    "execution": {
     "iopub.execute_input": "2021-12-24T06:50:10.923606Z",
     "iopub.status.busy": "2021-12-24T06:50:10.917794Z",
     "iopub.status.idle": "2021-12-24T06:50:10.928384Z",
     "shell.execute_reply": "2021-12-24T06:50:10.927685Z",
     "shell.execute_reply.started": "2021-12-24T06:42:37.319659Z"
    },
    "papermill": {
     "duration": 0.049342,
     "end_time": "2021-12-24T06:50:10.928558",
     "exception": false,
     "start_time": "2021-12-24T06:50:10.879216",
     "status": "completed"
    },
    "tags": []
   },
   "outputs": [
    {
     "data": {
      "text/html": [
       "<div>\n",
       "<style scoped>\n",
       "    .dataframe tbody tr th:only-of-type {\n",
       "        vertical-align: middle;\n",
       "    }\n",
       "\n",
       "    .dataframe tbody tr th {\n",
       "        vertical-align: top;\n",
       "    }\n",
       "\n",
       "    .dataframe thead th {\n",
       "        text-align: right;\n",
       "    }\n",
       "</style>\n",
       "<table border=\"1\" class=\"dataframe\">\n",
       "  <thead>\n",
       "    <tr style=\"text-align: right;\">\n",
       "      <th></th>\n",
       "      <th>id</th>\n",
       "      <th>keyword</th>\n",
       "      <th>location</th>\n",
       "      <th>text</th>\n",
       "    </tr>\n",
       "  </thead>\n",
       "  <tbody>\n",
       "    <tr>\n",
       "      <th>0</th>\n",
       "      <td>0</td>\n",
       "      <td>NaN</td>\n",
       "      <td>NaN</td>\n",
       "      <td>Just happened a terrible car crash</td>\n",
       "    </tr>\n",
       "    <tr>\n",
       "      <th>1</th>\n",
       "      <td>2</td>\n",
       "      <td>NaN</td>\n",
       "      <td>NaN</td>\n",
       "      <td>Heard about #earthquake is different cities, s...</td>\n",
       "    </tr>\n",
       "    <tr>\n",
       "      <th>2</th>\n",
       "      <td>3</td>\n",
       "      <td>NaN</td>\n",
       "      <td>NaN</td>\n",
       "      <td>there is a forest fire at spot pond, geese are...</td>\n",
       "    </tr>\n",
       "    <tr>\n",
       "      <th>3</th>\n",
       "      <td>9</td>\n",
       "      <td>NaN</td>\n",
       "      <td>NaN</td>\n",
       "      <td>Apocalypse lighting. #Spokane #wildfires</td>\n",
       "    </tr>\n",
       "    <tr>\n",
       "      <th>4</th>\n",
       "      <td>11</td>\n",
       "      <td>NaN</td>\n",
       "      <td>NaN</td>\n",
       "      <td>Typhoon Soudelor kills 28 in China and Taiwan</td>\n",
       "    </tr>\n",
       "    <tr>\n",
       "      <th>...</th>\n",
       "      <td>...</td>\n",
       "      <td>...</td>\n",
       "      <td>...</td>\n",
       "      <td>...</td>\n",
       "    </tr>\n",
       "    <tr>\n",
       "      <th>3258</th>\n",
       "      <td>10861</td>\n",
       "      <td>NaN</td>\n",
       "      <td>NaN</td>\n",
       "      <td>EARTHQUAKE SAFETY LOS ANGELES ÛÒ SAFETY FASTE...</td>\n",
       "    </tr>\n",
       "    <tr>\n",
       "      <th>3259</th>\n",
       "      <td>10865</td>\n",
       "      <td>NaN</td>\n",
       "      <td>NaN</td>\n",
       "      <td>Storm in RI worse than last hurricane. My city...</td>\n",
       "    </tr>\n",
       "    <tr>\n",
       "      <th>3260</th>\n",
       "      <td>10868</td>\n",
       "      <td>NaN</td>\n",
       "      <td>NaN</td>\n",
       "      <td>Green Line derailment in Chicago http://t.co/U...</td>\n",
       "    </tr>\n",
       "    <tr>\n",
       "      <th>3261</th>\n",
       "      <td>10874</td>\n",
       "      <td>NaN</td>\n",
       "      <td>NaN</td>\n",
       "      <td>MEG issues Hazardous Weather Outlook (HWO) htt...</td>\n",
       "    </tr>\n",
       "    <tr>\n",
       "      <th>3262</th>\n",
       "      <td>10875</td>\n",
       "      <td>NaN</td>\n",
       "      <td>NaN</td>\n",
       "      <td>#CityofCalgary has activated its Municipal Eme...</td>\n",
       "    </tr>\n",
       "  </tbody>\n",
       "</table>\n",
       "<p>3263 rows × 4 columns</p>\n",
       "</div>"
      ],
      "text/plain": [
       "         id keyword location  \\\n",
       "0         0     NaN      NaN   \n",
       "1         2     NaN      NaN   \n",
       "2         3     NaN      NaN   \n",
       "3         9     NaN      NaN   \n",
       "4        11     NaN      NaN   \n",
       "...     ...     ...      ...   \n",
       "3258  10861     NaN      NaN   \n",
       "3259  10865     NaN      NaN   \n",
       "3260  10868     NaN      NaN   \n",
       "3261  10874     NaN      NaN   \n",
       "3262  10875     NaN      NaN   \n",
       "\n",
       "                                                   text  \n",
       "0                    Just happened a terrible car crash  \n",
       "1     Heard about #earthquake is different cities, s...  \n",
       "2     there is a forest fire at spot pond, geese are...  \n",
       "3              Apocalypse lighting. #Spokane #wildfires  \n",
       "4         Typhoon Soudelor kills 28 in China and Taiwan  \n",
       "...                                                 ...  \n",
       "3258  EARTHQUAKE SAFETY LOS ANGELES ÛÒ SAFETY FASTE...  \n",
       "3259  Storm in RI worse than last hurricane. My city...  \n",
       "3260  Green Line derailment in Chicago http://t.co/U...  \n",
       "3261  MEG issues Hazardous Weather Outlook (HWO) htt...  \n",
       "3262  #CityofCalgary has activated its Municipal Eme...  \n",
       "\n",
       "[3263 rows x 4 columns]"
      ]
     },
     "execution_count": 4,
     "metadata": {},
     "output_type": "execute_result"
    }
   ],
   "source": [
    "# List Of  TestData\n",
    "\n",
    "testdata"
   ]
  },
  {
   "cell_type": "code",
   "execution_count": 5,
   "id": "ba667730",
   "metadata": {
    "execution": {
     "iopub.execute_input": "2021-12-24T06:50:10.992417Z",
     "iopub.status.busy": "2021-12-24T06:50:10.991731Z",
     "iopub.status.idle": "2021-12-24T06:50:11.004943Z",
     "shell.execute_reply": "2021-12-24T06:50:11.005475Z",
     "shell.execute_reply.started": "2021-12-24T06:42:37.334338Z"
    },
    "papermill": {
     "duration": 0.047563,
     "end_time": "2021-12-24T06:50:11.005662",
     "exception": false,
     "start_time": "2021-12-24T06:50:10.958099",
     "status": "completed"
    },
    "tags": []
   },
   "outputs": [
    {
     "data": {
      "text/plain": [
       "(id             0\n",
       " keyword       61\n",
       " location    2533\n",
       " text           0\n",
       " target         0\n",
       " dtype: int64,\n",
       " id             0\n",
       " keyword       26\n",
       " location    1105\n",
       " text           0\n",
       " dtype: int64)"
      ]
     },
     "execution_count": 5,
     "metadata": {},
     "output_type": "execute_result"
    }
   ],
   "source": [
    "# Checked for any null values train and test data\n",
    "traindata.isnull().sum(), testdata.isnull().sum()"
   ]
  },
  {
   "cell_type": "code",
   "execution_count": 6,
   "id": "59a8b720",
   "metadata": {
    "execution": {
     "iopub.execute_input": "2021-12-24T06:50:11.077612Z",
     "iopub.status.busy": "2021-12-24T06:50:11.076833Z",
     "iopub.status.idle": "2021-12-24T06:50:11.296998Z",
     "shell.execute_reply": "2021-12-24T06:50:11.296322Z",
     "shell.execute_reply.started": "2021-12-24T06:42:37.351971Z"
    },
    "papermill": {
     "duration": 0.261385,
     "end_time": "2021-12-24T06:50:11.297181",
     "exception": false,
     "start_time": "2021-12-24T06:50:11.035796",
     "status": "completed"
    },
    "tags": []
   },
   "outputs": [
    {
     "data": {
      "text/html": [
       "<div>\n",
       "<style scoped>\n",
       "    .dataframe tbody tr th:only-of-type {\n",
       "        vertical-align: middle;\n",
       "    }\n",
       "\n",
       "    .dataframe tbody tr th {\n",
       "        vertical-align: top;\n",
       "    }\n",
       "\n",
       "    .dataframe thead th {\n",
       "        text-align: right;\n",
       "    }\n",
       "</style>\n",
       "<table border=\"1\" class=\"dataframe\">\n",
       "  <thead>\n",
       "    <tr style=\"text-align: right;\">\n",
       "      <th></th>\n",
       "      <th>target</th>\n",
       "    </tr>\n",
       "  </thead>\n",
       "  <tbody>\n",
       "    <tr>\n",
       "      <th>0</th>\n",
       "      <td>4342</td>\n",
       "    </tr>\n",
       "    <tr>\n",
       "      <th>1</th>\n",
       "      <td>3271</td>\n",
       "    </tr>\n",
       "  </tbody>\n",
       "</table>\n",
       "</div>"
      ],
      "text/plain": [
       "   target\n",
       "0    4342\n",
       "1    3271"
      ]
     },
     "execution_count": 6,
     "metadata": {},
     "output_type": "execute_result"
    },
    {
     "data": {
      "image/png": "[encoded data removed]",
      "text/plain": [
       "<Figure size 432x288 with 1 Axes>"
      ]
     },
     "metadata": {
      "needs_background": "light"
     },
     "output_type": "display_data"
    }
   ],
   "source": [
    "# 0=non disaster tweet, 1=diaster tweet \n",
    "VCtrain=traindata['target'].value_counts().to_frame()\n",
    "sns.barplot(data=VCtrain,x=VCtrain.index,y=\"target\",palette=\"viridis\") #Seaborn code\n",
    "VCtrain"
   ]
  },
  {
   "cell_type": "code",
   "execution_count": 7,
   "id": "05053111",
   "metadata": {
    "execution": {
     "iopub.execute_input": "2021-12-24T06:50:11.369087Z",
     "iopub.status.busy": "2021-12-24T06:50:11.368350Z",
     "iopub.status.idle": "2021-12-24T06:50:11.775775Z",
     "shell.execute_reply": "2021-12-24T06:50:11.775141Z",
     "shell.execute_reply.started": "2021-12-24T06:42:37.564405Z"
    },
    "papermill": {
     "duration": 0.447449,
     "end_time": "2021-12-24T06:50:11.775947",
     "exception": false,
     "start_time": "2021-12-24T06:50:11.328498",
     "status": "completed"
    },
    "tags": []
   },
   "outputs": [
    {
     "data": {
      "image/png": "[encoded data removed]",
      "text/plain": [
       "<Figure size 1080x432 with 1 Axes>"
      ]
     },
     "metadata": {
      "needs_background": "light"
     },
     "output_type": "display_data"
    }
   ],
   "source": [
    "#Most common keywords\n",
    "common_keywords=traindata[\"keyword\"].value_counts()[:20].to_frame()\n",
    "fig=plt.figure(figsize=(15,6))\n",
    "sns.barplot(data=common_keywords,x=common_keywords.index,y=\"keyword\",palette=\"viridis\")\n",
    "plt.title(\"Most common keywords\",size=16)\n",
    "plt.xticks(rotation=70,size=12);"
   ]
  },
  {
   "cell_type": "code",
   "execution_count": 8,
   "id": "eb8bce01",
   "metadata": {
    "execution": {
     "iopub.execute_input": "2021-12-24T06:50:11.856438Z",
     "iopub.status.busy": "2021-12-24T06:50:11.850397Z",
     "iopub.status.idle": "2021-12-24T06:50:11.859307Z",
     "shell.execute_reply": "2021-12-24T06:50:11.859836Z",
     "shell.execute_reply.started": "2021-12-24T06:42:37.945551Z"
    },
    "papermill": {
     "duration": 0.051824,
     "end_time": "2021-12-24T06:50:11.860035",
     "exception": false,
     "start_time": "2021-12-24T06:50:11.808211",
     "status": "completed"
    },
    "tags": []
   },
   "outputs": [
    {
     "data": {
      "text/html": [
       "<div>\n",
       "<style scoped>\n",
       "    .dataframe tbody tr th:only-of-type {\n",
       "        vertical-align: middle;\n",
       "    }\n",
       "\n",
       "    .dataframe tbody tr th {\n",
       "        vertical-align: top;\n",
       "    }\n",
       "\n",
       "    .dataframe thead th {\n",
       "        text-align: right;\n",
       "    }\n",
       "</style>\n",
       "<table border=\"1\" class=\"dataframe\">\n",
       "  <thead>\n",
       "    <tr style=\"text-align: right;\">\n",
       "      <th></th>\n",
       "      <th>location</th>\n",
       "    </tr>\n",
       "  </thead>\n",
       "  <tbody>\n",
       "    <tr>\n",
       "      <th>USA</th>\n",
       "      <td>104</td>\n",
       "    </tr>\n",
       "    <tr>\n",
       "      <th>New York</th>\n",
       "      <td>71</td>\n",
       "    </tr>\n",
       "    <tr>\n",
       "      <th>United States</th>\n",
       "      <td>50</td>\n",
       "    </tr>\n",
       "    <tr>\n",
       "      <th>London</th>\n",
       "      <td>45</td>\n",
       "    </tr>\n",
       "    <tr>\n",
       "      <th>Canada</th>\n",
       "      <td>29</td>\n",
       "    </tr>\n",
       "    <tr>\n",
       "      <th>Nigeria</th>\n",
       "      <td>28</td>\n",
       "    </tr>\n",
       "    <tr>\n",
       "      <th>UK</th>\n",
       "      <td>27</td>\n",
       "    </tr>\n",
       "    <tr>\n",
       "      <th>Los Angeles, CA</th>\n",
       "      <td>26</td>\n",
       "    </tr>\n",
       "    <tr>\n",
       "      <th>India</th>\n",
       "      <td>24</td>\n",
       "    </tr>\n",
       "    <tr>\n",
       "      <th>Mumbai</th>\n",
       "      <td>22</td>\n",
       "    </tr>\n",
       "    <tr>\n",
       "      <th>Washington, DC</th>\n",
       "      <td>21</td>\n",
       "    </tr>\n",
       "    <tr>\n",
       "      <th>Kenya</th>\n",
       "      <td>20</td>\n",
       "    </tr>\n",
       "    <tr>\n",
       "      <th>Worldwide</th>\n",
       "      <td>19</td>\n",
       "    </tr>\n",
       "    <tr>\n",
       "      <th>Australia</th>\n",
       "      <td>18</td>\n",
       "    </tr>\n",
       "    <tr>\n",
       "      <th>Chicago, IL</th>\n",
       "      <td>18</td>\n",
       "    </tr>\n",
       "  </tbody>\n",
       "</table>\n",
       "</div>"
      ],
      "text/plain": [
       "                 location\n",
       "USA                   104\n",
       "New York               71\n",
       "United States          50\n",
       "London                 45\n",
       "Canada                 29\n",
       "Nigeria                28\n",
       "UK                     27\n",
       "Los Angeles, CA        26\n",
       "India                  24\n",
       "Mumbai                 22\n",
       "Washington, DC         21\n",
       "Kenya                  20\n",
       "Worldwide              19\n",
       "Australia              18\n",
       "Chicago, IL            18"
      ]
     },
     "execution_count": 8,
     "metadata": {},
     "output_type": "execute_result"
    }
   ],
   "source": [
    "#Location of Tweets\n",
    "\n",
    "traindata.location.value_counts()[:15].to_frame()"
   ]
  },
  {
   "cell_type": "code",
   "execution_count": 9,
   "id": "14f548de",
   "metadata": {
    "execution": {
     "iopub.execute_input": "2021-12-24T06:50:11.929655Z",
     "iopub.status.busy": "2021-12-24T06:50:11.928922Z",
     "iopub.status.idle": "2021-12-24T06:50:11.946947Z",
     "shell.execute_reply": "2021-12-24T06:50:11.946335Z",
     "shell.execute_reply.started": "2021-12-24T06:42:37.960106Z"
    },
    "papermill": {
     "duration": 0.053914,
     "end_time": "2021-12-24T06:50:11.947100",
     "exception": false,
     "start_time": "2021-12-24T06:50:11.893186",
     "status": "completed"
    },
    "tags": []
   },
   "outputs": [
    {
     "data": {
      "text/plain": [
       "0    our deeds are the reason of this #earthquake m...\n",
       "1               forest fire near la ronge sask. canada\n",
       "2    all residents asked to 'shelter in place' are ...\n",
       "3    13,000 people receive #wildfires evacuation or...\n",
       "4    just got sent this photo from ruby #alaska as ...\n",
       "5    #rockyfire update => california hwy. 20 closed...\n",
       "6    #flood #disaster heavy rain causes flash flood...\n",
       "7    i'm on top of the hill and i can see a fire in...\n",
       "8    there's an emergency evacuation happening now ...\n",
       "9    i'm afraid that the tornado is coming to our a...\n",
       "Name: text, dtype: object"
      ]
     },
     "execution_count": 9,
     "metadata": {},
     "output_type": "execute_result"
    }
   ],
   "source": [
    "#Lower method\n",
    "traindata.text=traindata.text.apply(lambda x:x.lower() )\n",
    "testdata.text=testdata.text.apply(lambda x:x.lower() )\n",
    "traindata.text.head(10)"
   ]
  },
  {
   "cell_type": "code",
   "execution_count": 10,
   "id": "fb82ffa5",
   "metadata": {
    "execution": {
     "iopub.execute_input": "2021-12-24T06:50:12.052125Z",
     "iopub.status.busy": "2021-12-24T06:50:12.046859Z",
     "iopub.status.idle": "2021-12-24T06:50:12.191309Z",
     "shell.execute_reply": "2021-12-24T06:50:12.190285Z",
     "shell.execute_reply.started": "2021-12-24T06:42:37.982156Z"
    },
    "papermill": {
     "duration": 0.211722,
     "end_time": "2021-12-24T06:50:12.191501",
     "exception": false,
     "start_time": "2021-12-24T06:50:11.979779",
     "status": "completed"
    },
    "tags": []
   },
   "outputs": [
    {
     "data": {
      "text/plain": [
       "0    our deeds are the reason of this earthquake ma...\n",
       "1                forest fire near la ronge sask canada\n",
       "2    all residents asked to shelter in place are be...\n",
       "3    13000 people receive wildfires evacuation orde...\n",
       "4    just got sent this photo from ruby alaska as s...\n",
       "Name: text, dtype: object"
      ]
     },
     "execution_count": 10,
     "metadata": {},
     "output_type": "execute_result"
    }
   ],
   "source": [
    "#Removing punctuation \n",
    "\n",
    "string.punctuation\n",
    "\n",
    "def remove_punctuation(text):\n",
    "    punctuationfree=\"\".join([i for i in text if i not in string.punctuation])\n",
    "    return punctuationfree\n",
    "\n",
    "traindata['text']= traindata['text'].apply(lambda x:remove_punctuation(x))\n",
    "testdata['text']= testdata['text'].apply(lambda x:remove_punctuation(x))\n",
    "traindata.text.head(5)"
   ]
  },
  {
   "cell_type": "code",
   "execution_count": 11,
   "id": "747477e9",
   "metadata": {
    "execution": {
     "iopub.execute_input": "2021-12-24T06:50:12.271236Z",
     "iopub.status.busy": "2021-12-24T06:50:12.270428Z",
     "iopub.status.idle": "2021-12-24T06:50:12.501511Z",
     "shell.execute_reply": "2021-12-24T06:50:12.500930Z",
     "shell.execute_reply.started": "2021-12-24T06:42:38.165230Z"
    },
    "papermill": {
     "duration": 0.277063,
     "end_time": "2021-12-24T06:50:12.501672",
     "exception": false,
     "start_time": "2021-12-24T06:50:12.224609",
     "status": "completed"
    },
    "tags": []
   },
   "outputs": [
    {
     "data": {
      "text/plain": [
       "0    our deeds are the reason of this earthquake ma...\n",
       "1                forest fire near la ronge sask canada\n",
       "2    all residents asked to shelter in place are be...\n",
       "3     people receive wildfires evacuation orders in...\n",
       "4    just got sent this photo from ruby alaska as s...\n",
       "Name: text, dtype: object"
      ]
     },
     "execution_count": 11,
     "metadata": {},
     "output_type": "execute_result"
    }
   ],
   "source": [
    "#remove words containing numbers\n",
    "\n",
    "traindata.text=traindata.text.apply(lambda x:re.sub('\\w*\\d\\w*' , '', x) )\n",
    "testdata.text=testdata.text.apply(lambda x:re.sub('\\w*\\d\\w*', '', x) )\n",
    "traindata.text.head(5)"
   ]
  },
  {
   "cell_type": "code",
   "execution_count": 12,
   "id": "e4c0ea23",
   "metadata": {
    "execution": {
     "iopub.execute_input": "2021-12-24T06:50:12.626099Z",
     "iopub.status.busy": "2021-12-24T06:50:12.601684Z",
     "iopub.status.idle": "2021-12-24T06:50:12.631089Z",
     "shell.execute_reply": "2021-12-24T06:50:12.630433Z",
     "shell.execute_reply.started": "2021-12-24T06:42:38.418077Z"
    },
    "papermill": {
     "duration": 0.09579,
     "end_time": "2021-12-24T06:50:12.631234",
     "exception": false,
     "start_time": "2021-12-24T06:50:12.535444",
     "status": "completed"
    },
    "tags": []
   },
   "outputs": [
    {
     "data": {
      "text/plain": [
       "0     our deeds are the reason of this earthquake ma...\n",
       "1                 forest fire near la ronge sask canada\n",
       "2     all residents asked to shelter in place are be...\n",
       "3      people receive wildfires evacuation orders in...\n",
       "4     just got sent this photo from ruby alaska as s...\n",
       "5     rockyfire update  california hwy  closed in bo...\n",
       "6     flood disaster heavy rain causes flash floodin...\n",
       "7     im on top of the hill and i can see a fire in ...\n",
       "8     theres an emergency evacuation happening now i...\n",
       "9      im afraid that the tornado is coming to our area\n",
       "10          three people died from the heat wave so far\n",
       "11    haha south tampa is getting flooded hah wait a...\n",
       "12    raining flooding florida tampabay tampa  or  d...\n",
       "13                flood in bago myanmar we arrived bago\n",
       "14    damage to school bus on  in multi car crash br...\n",
       "Name: text, dtype: object"
      ]
     },
     "execution_count": 12,
     "metadata": {},
     "output_type": "execute_result"
    }
   ],
   "source": [
    "#removing hyperlink\n",
    "traindata.text=traindata.text.apply(lambda x:re.sub('https?://\\S+|www\\.\\S+', '', x) )\n",
    "testdata.text=testdata.text.apply(lambda x:re.sub('https?://\\S+|www\\.\\S+', '', x) )\n",
    "traindata.text.head(15)"
   ]
  },
  {
   "cell_type": "code",
   "execution_count": 13,
   "id": "bd06a1ab",
   "metadata": {
    "execution": {
     "iopub.execute_input": "2021-12-24T06:50:12.709123Z",
     "iopub.status.busy": "2021-12-24T06:50:12.708430Z",
     "iopub.status.idle": "2021-12-24T06:50:12.711802Z",
     "shell.execute_reply": "2021-12-24T06:50:12.711190Z",
     "shell.execute_reply.started": "2021-12-24T06:42:38.474722Z"
    },
    "papermill": {
     "duration": 0.046849,
     "end_time": "2021-12-24T06:50:12.711945",
     "exception": false,
     "start_time": "2021-12-24T06:50:12.665096",
     "status": "completed"
    },
    "tags": []
   },
   "outputs": [
    {
     "data": {
      "text/plain": [
       "0     our deeds are the reason of this earthquake ma...\n",
       "1                 forest fire near la ronge sask canada\n",
       "2     all residents asked to shelter in place are be...\n",
       "3      people receive wildfires evacuation orders in...\n",
       "4     just got sent this photo from ruby alaska as s...\n",
       "5     rockyfire update  california hwy  closed in bo...\n",
       "6     flood disaster heavy rain causes flash floodin...\n",
       "7     im on top of the hill and i can see a fire in ...\n",
       "8     theres an emergency evacuation happening now i...\n",
       "9      im afraid that the tornado is coming to our area\n",
       "10          three people died from the heat wave so far\n",
       "11    haha south tampa is getting flooded hah wait a...\n",
       "12    raining flooding florida tampabay tampa  or  d...\n",
       "13                flood in bago myanmar we arrived bago\n",
       "14    damage to school bus on  in multi car crash br...\n",
       "Name: text, dtype: object"
      ]
     },
     "execution_count": 13,
     "metadata": {},
     "output_type": "execute_result"
    }
   ],
   "source": [
    "#removing spaces\n",
    "\n",
    "def remove_whitespace(text):\n",
    "    pattern = re.compile(r'\\s+') \n",
    "    Without_whitespace = re.sub(pattern, ' ', text)\n",
    "    train_data.text = Without_whitespace.replace('?', ' ? ').replace(')', ') ')\n",
    "    return train_data.text\n",
    "    test_data.text = Without_whitespace.replace('?', ' ? ').replace(')', ') ')\n",
    "    return testdata.text\n",
    "    \n",
    "traindata.text.head(15)"
   ]
  },
  {
   "cell_type": "code",
   "execution_count": 14,
   "id": "f3ed698c",
   "metadata": {
    "execution": {
     "iopub.execute_input": "2021-12-24T06:50:12.787386Z",
     "iopub.status.busy": "2021-12-24T06:50:12.786679Z",
     "iopub.status.idle": "2021-12-24T06:50:12.790703Z",
     "shell.execute_reply": "2021-12-24T06:50:12.791328Z",
     "shell.execute_reply.started": "2021-12-24T06:42:38.619439Z"
    },
    "papermill": {
     "duration": 0.044915,
     "end_time": "2021-12-24T06:50:12.791524",
     "exception": false,
     "start_time": "2021-12-24T06:50:12.746609",
     "status": "completed"
    },
    "tags": []
   },
   "outputs": [
    {
     "data": {
      "text/plain": [
       "0                    just happened a terrible car crash\n",
       "1     heard about earthquake is different cities sta...\n",
       "2     there is a forest fire at spot pond geese are ...\n",
       "3                 apocalypse lighting spokane wildfires\n",
       "4           typhoon soudelor kills  in china and taiwan\n",
       "5                         were shakingits an earthquake\n",
       "6     theyd probably still show more life than arsen...\n",
       "7                                       hey how are you\n",
       "8                                       what a nice hat\n",
       "9                                              fuck off\n",
       "10                                  no i dont like cold\n",
       "11                              nooooooooo dont do that\n",
       "12                                 no dont tell me that\n",
       "13                                              what if\n",
       "14                                              awesome\n",
       "Name: text, dtype: object"
      ]
     },
     "execution_count": 14,
     "metadata": {},
     "output_type": "execute_result"
    }
   ],
   "source": [
    "#removing spaces for test_Data\n",
    "testdata.text.head(15)"
   ]
  },
  {
   "cell_type": "code",
   "execution_count": 15,
   "id": "60028297",
   "metadata": {
    "execution": {
     "iopub.execute_input": "2021-12-24T06:50:12.865624Z",
     "iopub.status.busy": "2021-12-24T06:50:12.864860Z",
     "iopub.status.idle": "2021-12-24T06:50:12.884174Z",
     "shell.execute_reply": "2021-12-24T06:50:12.883433Z",
     "shell.execute_reply.started": "2021-12-24T06:42:38.633797Z"
    },
    "papermill": {
     "duration": 0.058073,
     "end_time": "2021-12-24T06:50:12.884370",
     "exception": false,
     "start_time": "2021-12-24T06:50:12.826297",
     "status": "completed"
    },
    "tags": []
   },
   "outputs": [
    {
     "name": "stdout",
     "output_type": "stream",
     "text": [
      "<class 'pandas.core.frame.DataFrame'>\n",
      "RangeIndex: 7613 entries, 0 to 7612\n",
      "Data columns (total 5 columns):\n",
      " #   Column    Non-Null Count  Dtype \n",
      "---  ------    --------------  ----- \n",
      " 0   id        7613 non-null   int64 \n",
      " 1   keyword   7552 non-null   object\n",
      " 2   location  5080 non-null   object\n",
      " 3   text      7613 non-null   object\n",
      " 4   target    7613 non-null   int64 \n",
      "dtypes: int64(2), object(3)\n",
      "memory usage: 297.5+ KB\n",
      "None\n"
     ]
    }
   ],
   "source": [
    "#Check data for spaces\n",
    "print(traindata.info())"
   ]
  },
  {
   "cell_type": "code",
   "execution_count": 16,
   "id": "8f35ef18",
   "metadata": {
    "execution": {
     "iopub.execute_input": "2021-12-24T06:50:12.973700Z",
     "iopub.status.busy": "2021-12-24T06:50:12.967960Z",
     "iopub.status.idle": "2021-12-24T06:50:13.011079Z",
     "shell.execute_reply": "2021-12-24T06:50:13.011673Z",
     "shell.execute_reply.started": "2021-12-24T06:42:38.657466Z"
    },
    "papermill": {
     "duration": 0.091876,
     "end_time": "2021-12-24T06:50:13.011880",
     "exception": false,
     "start_time": "2021-12-24T06:50:12.920004",
     "status": "completed"
    },
    "tags": []
   },
   "outputs": [
    {
     "data": {
      "text/plain": [
       "0     our deeds are the reason of this earthquake ma...\n",
       "1                 forest fire near la ronge sask canada\n",
       "2     all residents asked to shelter in place are be...\n",
       "3      people receive wildfires evacuation orders in...\n",
       "4     just got sent this photo from ruby alaska as s...\n",
       "5     rockyfire update  california hwy  closed in bo...\n",
       "6     flood disaster heavy rain causes flash floodin...\n",
       "7     im on top of the hill and i can see a fire in ...\n",
       "8     theres an emergency evacuation happening now i...\n",
       "9      im afraid that the tornado is coming to our area\n",
       "10          three people died from the heat wave so far\n",
       "11    haha south tampa is getting flooded hah wait a...\n",
       "12    raining flooding florida tampabay tampa  or  d...\n",
       "13                flood in bago myanmar we arrived bago\n",
       "14    damage to school bus on  in multi car crash br...\n",
       "Name: text, dtype: object"
      ]
     },
     "execution_count": 16,
     "metadata": {},
     "output_type": "execute_result"
    }
   ],
   "source": [
    "#removing square brackets\n",
    "traindata.text=traindata.text.apply(lambda x:re.sub('\\[.*?\\]', '', x) )\n",
    "testdata.text=testdata.text.apply(lambda x:re.sub('\\[.*?\\]', '', x) )\n",
    "traindata.text=traindata.text.apply(lambda x:re.sub('<.*?>+', '', x) )\n",
    "testdata.text=testdata.text.apply(lambda x:re.sub('<.*?>+', '', x) )\n",
    "traindata.text.head(15)"
   ]
  },
  {
   "cell_type": "code",
   "execution_count": 17,
   "id": "961a0182",
   "metadata": {
    "execution": {
     "iopub.execute_input": "2021-12-24T06:50:13.087934Z",
     "iopub.status.busy": "2021-12-24T06:50:13.087183Z",
     "iopub.status.idle": "2021-12-24T06:50:13.354578Z",
     "shell.execute_reply": "2021-12-24T06:50:13.353997Z",
     "shell.execute_reply.started": "2021-12-24T06:42:38.706579Z"
    },
    "papermill": {
     "duration": 0.306023,
     "end_time": "2021-12-24T06:50:13.354746",
     "exception": false,
     "start_time": "2021-12-24T06:50:13.048723",
     "status": "completed"
    },
    "tags": []
   },
   "outputs": [
    {
     "data": {
      "text/plain": [
       "0    [our, deeds, are, the, reason, of, this, earth...\n",
       "1        [forest, fire, near, la, ronge, sask, canada]\n",
       "2    [all, residents, asked, to, shelter, in, place...\n",
       "3    [people, receive, wildfires, evacuation, order...\n",
       "4    [just, got, sent, this, photo, from, ruby, ala...\n",
       "Name: text, dtype: object"
      ]
     },
     "metadata": {},
     "output_type": "display_data"
    }
   ],
   "source": [
    "#Tokenization\n",
    "\n",
    "token=nltk.tokenize.RegexpTokenizer(r'\\w+')\n",
    "\n",
    "traindata.text=traindata.text.apply(lambda x:token.tokenize(x))\n",
    "testdata.text=testdata.text.apply(lambda x:token.tokenize(x))\n",
    "\n",
    "display(traindata.text.head())"
   ]
  },
  {
   "cell_type": "code",
   "execution_count": 18,
   "id": "8c579b94",
   "metadata": {
    "execution": {
     "iopub.execute_input": "2021-12-24T06:50:13.430399Z",
     "iopub.status.busy": "2021-12-24T06:50:13.429702Z",
     "iopub.status.idle": "2021-12-24T06:50:32.614947Z",
     "shell.execute_reply": "2021-12-24T06:50:32.614165Z",
     "shell.execute_reply.started": "2021-12-24T06:42:38.798525Z"
    },
    "papermill": {
     "duration": 19.224358,
     "end_time": "2021-12-24T06:50:32.615116",
     "exception": false,
     "start_time": "2021-12-24T06:50:13.390758",
     "status": "completed"
    },
    "tags": []
   },
   "outputs": [
    {
     "name": "stdout",
     "output_type": "stream",
     "text": [
      "[nltk_data] Downloading package stopwords to /usr/share/nltk_data...\n",
      "[nltk_data]   Package stopwords is already up-to-date!\n"
     ]
    },
    {
     "data": {
      "text/plain": [
       "0    [deeds, reason, earthquake, may, allah, forgiv...\n",
       "1        [forest, fire, near, la, ronge, sask, canada]\n",
       "2    [residents, asked, shelter, place, notified, o...\n",
       "3    [people, receive, wildfires, evacuation, order...\n",
       "4    [got, sent, photo, ruby, alaska, smoke, wildfi...\n",
       "Name: text, dtype: object"
      ]
     },
     "execution_count": 18,
     "metadata": {},
     "output_type": "execute_result"
    }
   ],
   "source": [
    "#Stopwords\n",
    "nltk.download('stopwords')\n",
    "traindata.text=traindata.text.apply(lambda x:[w for w in x if w not in stopwords.words('english')])\n",
    "testdata.text=testdata.text.apply(lambda x:[w for w in x if w not in stopwords.words('english')])\n",
    "traindata.text.head()"
   ]
  },
  {
   "cell_type": "code",
   "execution_count": 19,
   "id": "bee1f11c",
   "metadata": {
    "execution": {
     "iopub.execute_input": "2021-12-24T06:50:32.697235Z",
     "iopub.status.busy": "2021-12-24T06:50:32.696544Z",
     "iopub.status.idle": "2021-12-24T06:50:32.701012Z",
     "shell.execute_reply": "2021-12-24T06:50:32.700484Z",
     "shell.execute_reply.started": "2021-12-24T06:42:57.536829Z"
    },
    "papermill": {
     "duration": 0.049083,
     "end_time": "2021-12-24T06:50:32.701169",
     "exception": false,
     "start_time": "2021-12-24T06:50:32.652086",
     "status": "completed"
    },
    "tags": []
   },
   "outputs": [
    {
     "data": {
      "text/plain": [
       "0                     [happened, terrible, car, crash]\n",
       "1    [heard, earthquake, different, cities, stay, s...\n",
       "2    [forest, fire, spot, pond, geese, fleeing, acr...\n",
       "3           [apocalypse, lighting, spokane, wildfires]\n",
       "4            [typhoon, soudelor, kills, china, taiwan]\n",
       "Name: text, dtype: object"
      ]
     },
     "execution_count": 19,
     "metadata": {},
     "output_type": "execute_result"
    }
   ],
   "source": [
    "#Stopwords for test_data\n",
    "testdata.text.head()"
   ]
  },
  {
   "cell_type": "code",
   "execution_count": 20,
   "id": "589befbc",
   "metadata": {
    "execution": {
     "iopub.execute_input": "2021-12-24T06:50:32.785778Z",
     "iopub.status.busy": "2021-12-24T06:50:32.785048Z",
     "iopub.status.idle": "2021-12-24T06:50:35.759442Z",
     "shell.execute_reply": "2021-12-24T06:50:35.758829Z",
     "shell.execute_reply.started": "2021-12-24T06:42:57.546433Z"
    },
    "papermill": {
     "duration": 3.019149,
     "end_time": "2021-12-24T06:50:35.759595",
     "exception": false,
     "start_time": "2021-12-24T06:50:32.740446",
     "status": "completed"
    },
    "tags": []
   },
   "outputs": [
    {
     "data": {
      "text/plain": [
       "0            deed reason earthquak may allah forgiv us\n",
       "1                 forest fire near la rong sask canada\n",
       "2    resid ask shelter place notifi offic evacu she...\n",
       "3          peopl receiv wildfir evacu order california\n",
       "4    got sent photo rubi alaska smoke wildfir pour ...\n",
       "Name: text, dtype: object"
      ]
     },
     "execution_count": 20,
     "metadata": {},
     "output_type": "execute_result"
    }
   ],
   "source": [
    "#Stemming\n",
    "stemmer = nltk.stem.PorterStemmer()\n",
    "traindata.text=traindata.text.apply(lambda x:\" \".join(stemmer.stem(token) for token in x))\n",
    "testdata.text=testdata.text.apply(lambda x:\" \".join(stemmer.stem(token) for token in x))\n",
    "traindata.text.head()"
   ]
  },
  {
   "cell_type": "code",
   "execution_count": 21,
   "id": "d88afb50",
   "metadata": {
    "execution": {
     "iopub.execute_input": "2021-12-24T06:50:35.837592Z",
     "iopub.status.busy": "2021-12-24T06:50:35.836845Z",
     "iopub.status.idle": "2021-12-24T06:50:36.056844Z",
     "shell.execute_reply": "2021-12-24T06:50:36.057403Z",
     "shell.execute_reply.started": "2021-12-24T06:43:00.531462Z"
    },
    "papermill": {
     "duration": 0.260822,
     "end_time": "2021-12-24T06:50:36.057729",
     "exception": false,
     "start_time": "2021-12-24T06:50:35.796907",
     "status": "completed"
    },
    "tags": []
   },
   "outputs": [],
   "source": [
    "#Text Vectorization\n",
    "count_vectorizer = CountVectorizer()\n",
    "traindata_vectors_count = count_vectorizer.fit_transform(traindata['text'])\n",
    "testdata_vectors_count = count_vectorizer.transform(testdata[\"text\"])"
   ]
  },
  {
   "cell_type": "code",
   "execution_count": 22,
   "id": "aac420ea",
   "metadata": {
    "execution": {
     "iopub.execute_input": "2021-12-24T06:50:36.139309Z",
     "iopub.status.busy": "2021-12-24T06:50:36.138598Z",
     "iopub.status.idle": "2021-12-24T06:50:38.500994Z",
     "shell.execute_reply": "2021-12-24T06:50:38.502176Z",
     "shell.execute_reply.started": "2021-12-24T06:43:00.735735Z"
    },
    "papermill": {
     "duration": 2.407452,
     "end_time": "2021-12-24T06:50:38.502517",
     "exception": false,
     "start_time": "2021-12-24T06:50:36.095065",
     "status": "completed"
    },
    "tags": []
   },
   "outputs": [
    {
     "data": {
      "text/plain": [
       "array([0.64216216, 0.53497164, 0.5974026 , 0.49843587, 0.598     ,\n",
       "       0.71346154])"
      ]
     },
     "execution_count": 22,
     "metadata": {},
     "output_type": "execute_result"
    }
   ],
   "source": [
    " #Using Logistic Regression for Training Model\n",
    "# Fitting a simple Logistic Regression on Counts\n",
    "CLR = LogisticRegression(C=2)\n",
    "scores = cross_val_score(CLR, traindata_vectors_count, traindata[\"target\"], cv=6, scoring=\"f1\")\n",
    "scores"
   ]
  },
  {
   "cell_type": "code",
   "execution_count": 23,
   "id": "06bf3cd0",
   "metadata": {
    "execution": {
     "iopub.execute_input": "2021-12-24T06:50:38.634242Z",
     "iopub.status.busy": "2021-12-24T06:50:38.633567Z",
     "iopub.status.idle": "2021-12-24T06:50:38.737739Z",
     "shell.execute_reply": "2021-12-24T06:50:38.737117Z",
     "shell.execute_reply.started": "2021-12-24T06:43:03.035481Z"
    },
    "papermill": {
     "duration": 0.165066,
     "end_time": "2021-12-24T06:50:38.737893",
     "exception": false,
     "start_time": "2021-12-24T06:50:38.572827",
     "status": "completed"
    },
    "tags": []
   },
   "outputs": [
    {
     "data": {
      "text/plain": [
       "array([0.76525822, 0.75764706, 0.74660272, 0.74801902, 0.7611465 ,\n",
       "       0.75851148, 0.75255302, 0.75697211, 0.75559105, 0.75590551,\n",
       "       0.75039746, 0.74389283, 0.77115987, 0.75894988, 0.7614534 ])"
      ]
     },
     "execution_count": 23,
     "metadata": {},
     "output_type": "execute_result"
    }
   ],
   "source": [
    "#Using Simple Naive Bayes\n",
    "# Fitting a simple Naive Bayes\n",
    "NB_Vec = MultinomialNB()\n",
    "cv = RepeatedStratifiedKFold(n_splits=5, n_repeats=3, random_state=1)\n",
    "scores = cross_val_score(NB_Vec, traindata_vectors_count, traindata[\"target\"], cv=cv, scoring=\"f1\")\n",
    "scores"
   ]
  },
  {
   "cell_type": "code",
   "execution_count": 24,
   "id": "34348077",
   "metadata": {
    "execution": {
     "iopub.execute_input": "2021-12-24T06:50:38.817995Z",
     "iopub.status.busy": "2021-12-24T06:50:38.817168Z",
     "iopub.status.idle": "2021-12-24T06:50:38.829716Z",
     "shell.execute_reply": "2021-12-24T06:50:38.829135Z",
     "shell.execute_reply.started": "2021-12-24T06:43:03.180133Z"
    },
    "papermill": {
     "duration": 0.053833,
     "end_time": "2021-12-24T06:50:38.829875",
     "exception": false,
     "start_time": "2021-12-24T06:50:38.776042",
     "status": "completed"
    },
    "tags": []
   },
   "outputs": [
    {
     "data": {
      "text/plain": [
       "MultinomialNB()"
      ]
     },
     "execution_count": 24,
     "metadata": {},
     "output_type": "execute_result"
    }
   ],
   "source": [
    "#Fitting model and predicting the test data\n",
    "NB_Vec.fit(traindata_vectors_count, traindata[\"target\"])"
   ]
  },
  {
   "cell_type": "code",
   "execution_count": 25,
   "id": "fed4569b",
   "metadata": {
    "execution": {
     "iopub.execute_input": "2021-12-24T06:50:38.941667Z",
     "iopub.status.busy": "2021-12-24T06:50:38.915227Z",
     "iopub.status.idle": "2021-12-24T06:50:39.102735Z",
     "shell.execute_reply": "2021-12-24T06:50:39.102098Z",
     "shell.execute_reply.started": "2021-12-24T06:43:03.192804Z"
    },
    "papermill": {
     "duration": 0.234561,
     "end_time": "2021-12-24T06:50:39.102904",
     "exception": false,
     "start_time": "2021-12-24T06:50:38.868343",
     "status": "completed"
    },
    "tags": []
   },
   "outputs": [
    {
     "data": {
      "text/plain": [
       "Pipeline(steps=[('Vectors', CountVectorizer(stop_words='english')),\n",
       "                ('tfidf', TfidfTransformer()), ('NB', MultinomialNB())])"
      ]
     },
     "execution_count": 25,
     "metadata": {},
     "output_type": "execute_result"
    }
   ],
   "source": [
    "#saving model pipeline and model\n",
    "pipe = Pipeline([('Vectors', CountVectorizer(stop_words='english')),('tfidf', TfidfTransformer()),\n",
    "     ('NB', MultinomialNB())])\n",
    "pipe.fit(traindata.text.values, traindata[\"target\"].values)"
   ]
  },
  {
   "cell_type": "code",
   "execution_count": 26,
   "id": "9f271e27",
   "metadata": {
    "execution": {
     "iopub.execute_input": "2021-12-24T06:50:39.185551Z",
     "iopub.status.busy": "2021-12-24T06:50:39.184483Z",
     "iopub.status.idle": "2021-12-24T06:50:39.196850Z",
     "shell.execute_reply": "2021-12-24T06:50:39.197472Z",
     "shell.execute_reply.started": "2021-12-24T06:43:03.370774Z"
    },
    "papermill": {
     "duration": 0.0556,
     "end_time": "2021-12-24T06:50:39.197676",
     "exception": false,
     "start_time": "2021-12-24T06:50:39.142076",
     "status": "completed"
    },
    "tags": []
   },
   "outputs": [],
   "source": [
    "#SavePipeline\n",
    "with open('pipeline_model.pkl', 'wb') as model_file:\n",
    "     pickle.dump(pipe, model_file)"
   ]
  },
  {
   "cell_type": "code",
   "execution_count": 27,
   "id": "b6e65ff4",
   "metadata": {
    "execution": {
     "iopub.execute_input": "2021-12-24T06:50:39.296312Z",
     "iopub.status.busy": "2021-12-24T06:50:39.295285Z",
     "iopub.status.idle": "2021-12-24T06:50:39.300401Z",
     "shell.execute_reply": "2021-12-24T06:50:39.301036Z",
     "shell.execute_reply.started": "2021-12-24T06:43:03.381699Z"
    },
    "papermill": {
     "duration": 0.058567,
     "end_time": "2021-12-24T06:50:39.301304",
     "exception": false,
     "start_time": "2021-12-24T06:50:39.242737",
     "status": "completed"
    },
    "tags": []
   },
   "outputs": [],
   "source": [
    "#SaveModel\n",
    "pred=NB_Vec.predict(testdata_vectors_count)"
   ]
  },
  {
   "cell_type": "code",
   "execution_count": 28,
   "id": "8e82a0a3",
   "metadata": {
    "execution": {
     "iopub.execute_input": "2021-12-24T06:50:39.389886Z",
     "iopub.status.busy": "2021-12-24T06:50:39.388804Z",
     "iopub.status.idle": "2021-12-24T06:50:39.397040Z",
     "shell.execute_reply": "2021-12-24T06:50:39.397557Z",
     "shell.execute_reply.started": "2021-12-24T06:43:03.394567Z"
    },
    "papermill": {
     "duration": 0.050963,
     "end_time": "2021-12-24T06:50:39.397754",
     "exception": false,
     "start_time": "2021-12-24T06:50:39.346791",
     "status": "completed"
    },
    "tags": []
   },
   "outputs": [
    {
     "name": "stdout",
     "output_type": "stream",
     "text": [
      "The tweet is Non Disaster Tweet\n"
     ]
    }
   ],
   "source": [
    "#Test\n",
    "predicted = pipe.predict(['it is raining fire'])[0]\n",
    "\n",
    "if predicted == 1:\n",
    "    print(\"The tweet is Disaster Tweet\")\n",
    "else:\n",
    "    print(\"The tweet is Non Disaster Tweet\")"
   ]
  },
  {
   "cell_type": "code",
   "execution_count": 29,
   "id": "315d3191",
   "metadata": {
    "execution": {
     "iopub.execute_input": "2021-12-24T06:50:39.479941Z",
     "iopub.status.busy": "2021-12-24T06:50:39.479218Z",
     "iopub.status.idle": "2021-12-24T06:50:39.487522Z",
     "shell.execute_reply": "2021-12-24T06:50:39.486912Z",
     "shell.execute_reply.started": "2021-12-24T06:43:03.404290Z"
    },
    "papermill": {
     "duration": 0.049985,
     "end_time": "2021-12-24T06:50:39.487673",
     "exception": false,
     "start_time": "2021-12-24T06:50:39.437688",
     "status": "completed"
    },
    "tags": []
   },
   "outputs": [
    {
     "name": "stdout",
     "output_type": "stream",
     "text": [
      "The tweet is Non Disaster Tweet\n"
     ]
    }
   ],
   "source": [
    "#Test\n",
    "predicted = pipe.predict(['The cold across the center of the country early in'])[0]\n",
    "\n",
    "if predicted == 1:\n",
    "    print(\"The tweet is Disaster Tweet\")\n",
    "else:\n",
    "    print(\"The tweet is Non Disaster Tweet\")"
   ]
  },
  {
   "cell_type": "code",
   "execution_count": 30,
   "id": "793bfc38",
   "metadata": {
    "execution": {
     "iopub.execute_input": "2021-12-24T06:50:39.569907Z",
     "iopub.status.busy": "2021-12-24T06:50:39.569127Z",
     "iopub.status.idle": "2021-12-24T06:50:39.576454Z",
     "shell.execute_reply": "2021-12-24T06:50:39.576977Z",
     "shell.execute_reply.started": "2021-12-24T06:43:03.415494Z"
    },
    "papermill": {
     "duration": 0.050297,
     "end_time": "2021-12-24T06:50:39.577186",
     "exception": false,
     "start_time": "2021-12-24T06:50:39.526889",
     "status": "completed"
    },
    "tags": []
   },
   "outputs": [
    {
     "name": "stdout",
     "output_type": "stream",
     "text": [
      "The tweet is Disaster Tweet\n"
     ]
    }
   ],
   "source": [
    "#Test\n",
    "predicted = pipe.predict(['Just happened a terrible car crash'])[0]\n",
    "\n",
    "if predicted == 1:\n",
    "    print(\"The tweet is Disaster Tweet\")\n",
    "else:\n",
    "    print(\"The tweet is Non Disaster Tweet\")"
   ]
  },
  {
   "cell_type": "code",
   "execution_count": 31,
   "id": "991ef55f",
   "metadata": {
    "execution": {
     "iopub.execute_input": "2021-12-24T06:50:39.659418Z",
     "iopub.status.busy": "2021-12-24T06:50:39.658760Z",
     "iopub.status.idle": "2021-12-24T06:50:39.668072Z",
     "shell.execute_reply": "2021-12-24T06:50:39.667027Z",
     "shell.execute_reply.started": "2021-12-24T06:43:03.430163Z"
    },
    "papermill": {
     "duration": 0.051749,
     "end_time": "2021-12-24T06:50:39.668377",
     "exception": false,
     "start_time": "2021-12-24T06:50:39.616628",
     "status": "completed"
    },
    "tags": []
   },
   "outputs": [
    {
     "name": "stdout",
     "output_type": "stream",
     "text": [
      "The tweet is Disaster Tweet\n"
     ]
    }
   ],
   "source": [
    "#Test\n",
    "predicted = pipe.predict(['Typhoon Soudelor kills 28 in China and Taiwan'])[0]\n",
    "\n",
    "if predicted == 1:\n",
    "    print(\"The tweet is Disaster Tweet\")\n",
    "else:\n",
    "    print(\"The tweet is Non Disaster Tweet\")"
   ]
  },
  {
   "cell_type": "code",
   "execution_count": 32,
   "id": "5a171ce8",
   "metadata": {
    "execution": {
     "iopub.execute_input": "2021-12-24T06:50:39.753377Z",
     "iopub.status.busy": "2021-12-24T06:50:39.752705Z",
     "iopub.status.idle": "2021-12-24T06:50:39.759973Z",
     "shell.execute_reply": "2021-12-24T06:50:39.760700Z",
     "shell.execute_reply.started": "2021-12-24T06:43:03.440380Z"
    },
    "papermill": {
     "duration": 0.051638,
     "end_time": "2021-12-24T06:50:39.760942",
     "exception": false,
     "start_time": "2021-12-24T06:50:39.709304",
     "status": "completed"
    },
    "tags": []
   },
   "outputs": [
    {
     "name": "stdout",
     "output_type": "stream",
     "text": [
      "The tweet is Non Disaster Tweet\n"
     ]
    }
   ],
   "source": [
    "#Test\n",
    "predicted = pipe.predict(['Apocalypse lighting. #Spokane #wildfires'])[0]\n",
    "\n",
    "if predicted == 1:\n",
    "    print(\"The tweet is Disaster Tweet\")\n",
    "else:\n",
    "    print(\"The tweet is Non Disaster Tweet\")"
   ]
  },
  {
   "cell_type": "code",
   "execution_count": 33,
   "id": "cde80635",
   "metadata": {
    "execution": {
     "iopub.execute_input": "2021-12-24T06:50:39.845314Z",
     "iopub.status.busy": "2021-12-24T06:50:39.844616Z",
     "iopub.status.idle": "2021-12-24T06:50:39.871246Z",
     "shell.execute_reply": "2021-12-24T06:50:39.871802Z",
     "shell.execute_reply.started": "2021-12-24T06:47:40.372326Z"
    },
    "papermill": {
     "duration": 0.070249,
     "end_time": "2021-12-24T06:50:39.872010",
     "exception": false,
     "start_time": "2021-12-24T06:50:39.801761",
     "status": "completed"
    },
    "tags": []
   },
   "outputs": [],
   "source": [
    "#Live\n",
    "sample_submission = pd.read_csv(\"/kaggle/input/nlp-getting-started/sample_submission.csv\")\n",
    "sample_submission[\"target\"] = pred\n",
    "sample_submission.to_csv(\"submission.csv\", index=False)"
   ]
  }
 ],
 "metadata": {
  "kernelspec": {
   "display_name": "Python 3",
   "language": "python",
   "name": "python3"
  },
  "language_info": {
   "codemirror_mode": {
    "name": "ipython",
    "version": 3
   },
   "file_extension": ".py",
   "mimetype": "text/x-python",
   "name": "python",
   "nbconvert_exporter": "python",
   "pygments_lexer": "ipython3",
   "version": "3.7.12"
  },
  "papermill": {
   "default_parameters": {},
   "duration": 44.423034,
   "end_time": "2021-12-24T06:50:40.924214",
   "environment_variables": {},
   "exception": null,
   "input_path": "__notebook__.ipynb",
   "output_path": "__notebook__.ipynb",
   "parameters": {},
   "start_time": "2021-12-24T06:49:56.501180",
   "version": "2.3.3"
  }
 },
 "nbformat": 4,
 "nbformat_minor": 5
}
